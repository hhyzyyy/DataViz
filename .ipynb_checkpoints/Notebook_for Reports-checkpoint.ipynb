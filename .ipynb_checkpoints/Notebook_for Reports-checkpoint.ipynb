{
 "cells": [
  {
   "cell_type": "code",
   "execution_count": null,
   "id": "aa84f283-288b-419e-b2c5-3fd7d3ad5adc",
   "metadata": {
    "tags": []
   },
   "outputs": [],
   "source": [
    "%run preamble.py"
   ]
  },
  {
   "cell_type": "markdown",
   "id": "2f8d43b6-3086-4c16-822b-e03b6c7b2f7f",
   "metadata": {},
   "source": [
    "# Example which shows that plotly (plotly express) can be normaly used but the figure is plotted according to the \"Cooperate Design of the IWF\""
   ]
  },
  {
   "cell_type": "code",
   "execution_count": null,
   "id": "1c44854b-9f37-4972-bb36-48c62c5ec9c1",
   "metadata": {},
   "outputs": [],
   "source": [
    "df = px.data.gapminder()\n",
    "five_countries = px.data.gapminder().country.unique()[0:5]\n",
    "dff = df.loc[df.country.isin(five_countries)]\n",
    "fig = px.line(dff, x=\"year\", y=\"lifeExp\", title='Life expectancy in Canada', color = 'country')\n",
    "fig.show()"
   ]
  },
  {
   "cell_type": "code",
   "execution_count": null,
   "id": "25460e5a-69ea-4efc-a990-a3c9ead155e6",
   "metadata": {},
   "outputs": [],
   "source": []
  }
 ],
 "metadata": {
  "kernelspec": {
   "display_name": "Python 3 (ipykernel)",
   "language": "python",
   "name": "python3"
  },
  "language_info": {
   "codemirror_mode": {
    "name": "ipython",
    "version": 3
   },
   "file_extension": ".py",
   "mimetype": "text/x-python",
   "name": "python",
   "nbconvert_exporter": "python",
   "pygments_lexer": "ipython3",
   "version": "3.9.12"
  }
 },
 "nbformat": 4,
 "nbformat_minor": 5
}
